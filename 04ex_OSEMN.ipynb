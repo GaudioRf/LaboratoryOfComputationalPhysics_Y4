{
 "cells": [
  {
   "cell_type": "markdown",
   "metadata": {},
   "source": [
    "# OSEMN Exercises"
   ]
  },
  {
   "cell_type": "code",
   "execution_count": 1,
   "metadata": {},
   "outputs": [],
   "source": [
    "%matplotlib inline\n",
    "import pandas as pd\n",
    "import numpy as np"
   ]
  },
  {
   "cell_type": "markdown",
   "metadata": {},
   "source": [
    "1\\. Create a random list of number and then save it to a text file named \"simple_data.txt\""
   ]
  },
  {
   "cell_type": "code",
   "execution_count": 2,
   "metadata": {},
   "outputs": [
    {
     "name": "stdout",
     "output_type": "stream",
     "text": [
      "[0.52783647 0.53200935 0.72634312 0.76236392 0.67984278 0.5963085\n",
      "\n",
      " 0.33332188 0.19755985 0.4116326  0.30324869 0.78821738 0.53311821\n",
      "\n",
      " 0.67818502 0.98979534 0.62163053 0.99255913 0.67117963 0.50156164\n",
      "\n",
      " 0.6458445  0.39503879]\n"
     ]
    }
   ],
   "source": [
    "l=np.array(np.random.random(20))\n",
    "\n",
    "file_name = \"simple_data.txt\"\n",
    "with open(file_name, mode='w') as f:\n",
    "    f.write(str(l))\n",
    "    f.close()\n",
    "    \n",
    "with open(file_name, mode='r') as f:\n",
    "    for line in f:\n",
    "        print(line)\n",
    "    f.close()"
   ]
  },
  {
   "cell_type": "markdown",
   "metadata": {},
   "source": [
    "2\\. Create a random matrix of 5x5 and then save it to a text file named \"data.txt\""
   ]
  },
  {
   "cell_type": "code",
   "execution_count": 5,
   "metadata": {},
   "outputs": [
    {
     "name": "stdout",
     "output_type": "stream",
     "text": [
      "[[0.09288546 0.42841868 0.44140338 0.82601749 0.32005014]\n",
      "\n",
      " [0.03872312 0.79695505 0.90517267 0.01374686 0.2870908 ]\n",
      "\n",
      " [0.35068881 0.22920803 0.35928947 0.22381331 0.82647262]\n",
      "\n",
      " [0.48043074 0.88248794 0.78608671 0.13758236 0.82673724]\n",
      "\n",
      " [0.18791625 0.07558352 0.69184373 0.43007171 0.80270563]]\n"
     ]
    }
   ],
   "source": [
    "m=np.array(np.random.random(25)).reshape(5,5)\n",
    "\n",
    "file_name=\"data.txt\"\n",
    "with open(file_name, mode='w') as f:\n",
    "    f.write(str(m))\n",
    "    \n",
    "with open(file_name, mode='r') as f:\n",
    "    for line in f:\n",
    "        print(line)\n",
    "    f.close()"
   ]
  },
  {
   "cell_type": "markdown",
   "metadata": {},
   "source": [
    "3\\. Load the saved txt file of point 2 and convert it to a csv file (by hand)"
   ]
  },
  {
   "cell_type": "code",
   "execution_count": 13,
   "metadata": {},
   "outputs": [
    {
     "name": "stdout",
     "output_type": "stream",
     "text": [
      "['[[0.09288546 0.42841868 0.44140338 0.82601749 0.32005014]\\n', ' [0.03872312 0.79695505 0.90517267 0.01374686 0.2870908 ]\\n', ' [0.35068881 0.22920803 0.35928947 0.22381331 0.82647262]\\n', ' [0.48043074 0.88248794 0.78608671 0.13758236 0.82673724]\\n', ' [0.18791625 0.07558352 0.69184373 0.43007171 0.80270563]]'] \n",
      "\n",
      "[[0.09288546 0.42841868 0.44140338 0.82601749 0.32005014]\n",
      "\n",
      " [0.03872312 0.79695505 0.90517267 0.01374686 0.2870908 ]\n",
      "\n",
      " [0.35068881 0.22920803 0.35928947 0.22381331 0.82647262]\n",
      "\n",
      " [0.48043074 0.88248794 0.78608671 0.13758236 0.82673724]\n",
      "\n",
      " [0.18791625 0.07558352 0.69184373 0.43007171 0.80270563]]\n"
     ]
    },
    {
     "data": {
      "text/plain": [
       "'\\nwith open(\\'data.csv\\', mode=\\'w\\') as data_file:\\n    data_writer = csv.writer(data_file, delimiter=\\',\\', quotechar=\\'\"\\')\\n    for i in tmp:\\n        data_writer.writerow((tmp[i])\\n'"
      ]
     },
     "execution_count": 13,
     "metadata": {},
     "output_type": "execute_result"
    }
   ],
   "source": [
    "import csv\n",
    "file_name = \"data.txt\"\n",
    "\n",
    "tmp=[]\n",
    "with open(file_name, mode='r') as f:\n",
    "    for line in f:\n",
    "        tmp.append(line)\n",
    "    f.close()\n",
    "            \n",
    "print(tmp,'\\n')\n",
    "\n",
    "with open(file_name, mode='r') as f:\n",
    "    for line in f:\n",
    "        print(line)\n",
    "    f.close()\n",
    "\n",
    "\n",
    "with open('data.csv', mode='w') as data_file:\n",
    "    data_writer = csv.writer(data_file, delimiter=',', quotechar='\"')\n",
    "    for i in tmp:\n",
    "        data_writer.writerow((tmp[i])\n",
    "   \n",
    "        \n",
    "\n"
   ]
  },
  {
   "cell_type": "markdown",
   "metadata": {},
   "source": [
    "4\\. load the binary file named *credit_card.dat* and convert the data into the real credit-card number.\n",
    "Each line correspond to a credit card number.\n",
    "Each character is composed by 6 bit (even the space) and the last 4 bit are just a padding\n",
    "\n",
    "**hint**: use the `chr()` function to convert a number to a char"
   ]
  },
  {
   "cell_type": "markdown",
   "metadata": {},
   "source": [
    "5\\. Load the file \"user_data.json\", filter the data by the \"CreditCardType\" field equals to \"American Express\". Than save the data a to CSV."
   ]
  },
  {
   "cell_type": "markdown",
   "metadata": {},
   "source": [
    "6\\. Load the file from this url: [https://www.dropbox.com/s/7u3lm737ogbqsg8/mushrooms_categorized.csv?dl=1](https://www.dropbox.com/s/7u3lm737ogbqsg8/mushrooms_categorized.csv?dl=1) with Pandas. \n",
    "+ Explore the data (see the info of the data)\n",
    "+ Draw the istogram of the 'class' field. Decribe wath yuou see\n"
   ]
  },
  {
   "cell_type": "markdown",
   "metadata": {},
   "source": [
    "7\\. Load the remote file [https://www.dropbox.com/s/vkl89yce7xjdq4n/regression_generated.csv?dl=1](https://www.dropbox.com/s/vkl89yce7xjdq4n/regression_generated.csv?dl=1) with Pandas and plot a scatter plot all possible combination of the following fields:\n",
    "    \n",
    "  + features_1\n",
    "  + features_2\n",
    "  + features_3"
   ]
  },
  {
   "cell_type": "markdown",
   "metadata": {},
   "source": [
    "8\\. Load the same file of point 6, and convert the file to json with Pandas."
   ]
  }
 ],
 "metadata": {
  "kernelspec": {
   "display_name": "Python 3",
   "language": "python",
   "name": "python3"
  },
  "language_info": {
   "codemirror_mode": {
    "name": "ipython",
    "version": 3
   },
   "file_extension": ".py",
   "mimetype": "text/x-python",
   "name": "python",
   "nbconvert_exporter": "python",
   "pygments_lexer": "ipython3",
   "version": "3.8.8"
  }
 },
 "nbformat": 4,
 "nbformat_minor": 2
}
